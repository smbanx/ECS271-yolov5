{
 "cells": [
  {
   "cell_type": "code",
   "execution_count": 2,
   "metadata": {},
   "outputs": [],
   "source": [
    "import os\n",
    "import json\n",
    "\n",
    "def print_secondary_field_values(directory, primary_field_name, secondary_field_name):\n",
    "    # List all files and directories in the specified directory\n",
    "    for filename in os.listdir(directory):\n",
    "        # Check if the path is a file and ends with '.json'\n",
    "        filepath = os.path.join(directory, filename)\n",
    "        if os.path.isfile(filepath) and filename.endswith('.json'):\n",
    "            # Open the JSON file and parse its contents\n",
    "            with open(filepath, 'r') as file:\n",
    "                try:\n",
    "                    data = json.load(file)\n",
    "                    # Check if the primary field exists in the JSON data\n",
    "                    bbox=[]\n",
    "                    if primary_field_name in data:\n",
    "                        # Loop through the list of dictionaries in the primary field\n",
    "                        for item in data[primary_field_name]:\n",
    "                            # Check if the secondary field exists in each dictionary\n",
    "                            category=item[\"cat_id\"]\n",
    "                            x_coords=[]\n",
    "                            y_coords=[]\n",
    "                            pos=0\n",
    "                            if secondary_field_name in item:\n",
    "                                for item2 in item[secondary_field_name]:\n",
    "                                    if pos%2==0:\n",
    "                                        x_coords.append(item2)\n",
    "                                    else:\n",
    "                                        y_coords.append(item2)\n",
    "                                    pos=pos+1\n",
    "                            x_mid=sum(x_coords)/4/800\n",
    "                            y_mid=sum(y_coords)/4/800\n",
    "                            x_width=(max(x_coords)-min(x_coords))/800\n",
    "                            y_height=(max(y_coords)-min(y_coords))/800\n",
    "                            bbox.append(str(category)+ \" \"+str(x_mid)+ \" \"+str(y_mid)+ \" \"+str(x_width)+ \" \"+str(y_height))\n",
    "                    file_path = os.path.join(\"new_data/labels\", filename[:-5]+'.txt')\n",
    "                    # Write strings to the file\n",
    "                    with open(file_path, 'w') as file:\n",
    "                        for yolo in bbox:\n",
    "                            file.write(yolo + '\\n')  # Add a newline character after each string\n",
    "                except json.JSONDecodeError as e:\n",
    "                    print(f\"Error decoding JSON in {filename}: {e}\")\n",
    "\n",
    "# Replace 'directory_path' with the path of the directory containing JSON files\n",
    "directory_path = 'datasets/COCO/annotations'\n",
    "primary_field_to_loop = 'annotations'  # Replace 'your_primary_field' with the name of the primary field\n",
    "secondary_field_to_print = 'poly'  # Replace 'your_secondary_field' with the name of the secondary field\n",
    "print_secondary_field_values(directory_path, primary_field_to_loop, secondary_field_to_print)"
   ]
  }
 ],
 "metadata": {
  "kernelspec": {
   "display_name": "Python 3",
   "language": "python",
   "name": "python3"
  },
  "language_info": {
   "codemirror_mode": {
    "name": "ipython",
    "version": 3
   },
   "file_extension": ".py",
   "mimetype": "text/x-python",
   "name": "python",
   "nbconvert_exporter": "python",
   "pygments_lexer": "ipython3",
   "version": "3.12.3"
  }
 },
 "nbformat": 4,
 "nbformat_minor": 2
}
