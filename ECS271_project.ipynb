{
  "nbformat": 4,
  "nbformat_minor": 0,
  "metadata": {
    "colab": {
      "provenance": [],
      "gpuType": "A100",
      "machine_shape": "hm"
    },
    "kernelspec": {
      "name": "python3",
      "display_name": "Python 3"
    },
    "language_info": {
      "name": "python"
    },
    "accelerator": "GPU"
  },
  "cells": [
    {
      "cell_type": "code",
      "source": [
        "#@title Setup YOLOV5\n",
        "# !git clone https://github.com/ultralytics/yolov5  # clone yolov5\n",
        "# !git clone https://github.com/cv516Buaa/tph-yolov5 # clone tph-yolov5\n",
        "!git clone https://github.com/smbanx/ECS271-yolov5\n",
        "# %cd yolov5\n",
        "%cd ECS271-yolov5\n",
        "%pip install -qr requirements.txt comet_ml  # install\n",
        "\n",
        "import torch\n",
        "import utils\n",
        "display = utils.notebook_init()  # checks"
      ],
      "metadata": {
        "id": "-Kk4ZMsWUS3-",
        "colab": {
          "base_uri": "https://localhost:8080/"
        },
        "outputId": "7204012d-4729-4515-cac1-d88c43f4378c"
      },
      "execution_count": 1,
      "outputs": [
        {
          "output_type": "stream",
          "name": "stderr",
          "text": [
            "YOLOv5 🚀 43480da Python-3.10.12 torch-2.3.0+cu121 CUDA:0 (NVIDIA A100-SXM4-40GB, 40514MiB)\n"
          ]
        },
        {
          "output_type": "stream",
          "name": "stdout",
          "text": [
            "Setup complete ✅ (12 CPUs, 83.5 GB RAM, 30.0/201.2 GB disk)\n"
          ]
        }
      ]
    },
    {
      "cell_type": "code",
      "source": [
        "#@title Mount Data from Google Drive\n",
        "# %cd ./tph-yolov5\n",
        "# %pip install -r requirements.txt\n",
        "%cd .."
      ],
      "metadata": {
        "colab": {
          "base_uri": "https://localhost:8080/"
        },
        "id": "jiFpcLRcRwla",
        "outputId": "622d0825-9639-46cc-8c35-c60fdf65f145"
      },
      "execution_count": 2,
      "outputs": [
        {
          "output_type": "stream",
          "name": "stdout",
          "text": [
            "/content\n"
          ]
        }
      ]
    },
    {
      "cell_type": "code",
      "source": [
        "from google.colab import drive\n",
        "drive.mount('/content/drive')"
      ],
      "metadata": {
        "id": "D6VrLxERWXdK",
        "colab": {
          "base_uri": "https://localhost:8080/"
        },
        "outputId": "2acb5371-913a-412f-f323-734ecba5429c"
      },
      "execution_count": 3,
      "outputs": [
        {
          "output_type": "stream",
          "name": "stdout",
          "text": [
            "Mounted at /content/drive\n"
          ]
        }
      ]
    },
    {
      "cell_type": "code",
      "source": [
        "#@title Create Train/Val Sets (NOTE: DO NOT RERUN)\n",
        "%cd ./drive/MyDrive/ECS271/\n",
        "%ls\n",
        "# !python customTrainVal.py"
      ],
      "metadata": {
        "colab": {
          "base_uri": "https://localhost:8080/"
        },
        "id": "dmOkipXa6rcq",
        "outputId": "9af0f043-a65e-469c-d3fb-330b460a199b"
      },
      "execution_count": null,
      "outputs": [
        {
          "output_type": "stream",
          "name": "stdout",
          "text": [
            "/content/drive/MyDrive/ECS271\n",
            "common.py                 \u001b[0m\u001b[01;34mcustom_val_2500\u001b[0m/         project.yaml             yolov5l-xs-2.pt\n",
            "\u001b[01;34mcustom_train\u001b[0m/             custom_val_2500.cache    \u001b[01;34mtrain\u001b[0m/                   yolov5l-xs-tph.yaml\n",
            "\u001b[01;34mcustom_train_10000\u001b[0m/       custom_val.cache         train_class_lookup.json  yolov5m_soda.yaml\n",
            "custom_train_10000.cache  dataloaders_modified.py  \u001b[01;34mtrain-results\u001b[0m/           yolov5n_soda.yaml\n",
            "\u001b[01;34mcustom_train_4000\u001b[0m/        \u001b[01;34mdetection-results\u001b[0m/       \u001b[01;34mval\u001b[0m/                     yolov5s_soda.yaml\n",
            "custom_train_4000.cache   \u001b[01;34mheli_train_10000\u001b[0m/        val_class_lookup.json    yolov5x-seg_tf.yaml\n",
            "custom_train.cache        heli_train_10000.cache   \u001b[01;34mval-results\u001b[0m/             yolov5x_soda.yaml\n",
            "customTrainVal.py         \u001b[01;34mheli_val_2500\u001b[0m/           yolov5l_soda.yaml        yolov5x_tf.yaml\n",
            "\u001b[01;34mcustom_val\u001b[0m/               heli_val_2500.cache      yolov5l_tf.yaml\n",
            "\u001b[01;34mcustom_val_1000\u001b[0m/          params.txt               yolov5l-tph-plus.yaml\n",
            "custom_val_1000.cache     projectv2.yaml           yolov5l-xs-1.pt\n"
          ]
        }
      ]
    },
    {
      "cell_type": "code",
      "source": [
        "import os\n",
        "import random\n",
        "import shutil\n",
        "import glob\n",
        "from datetime import datetime\n",
        "\n",
        "# function for removing duplicates from a list\n",
        "def unique(lst):\n",
        "    used = set()\n",
        "    new_lst = []\n",
        "    for elem in lst:\n",
        "        if elem not in used:\n",
        "            new_lst.append(elem)\n",
        "            used.add(elem)\n",
        "    return new_lst"
      ],
      "metadata": {
        "id": "vvqMALxZlr5D"
      },
      "execution_count": null,
      "outputs": []
    },
    {
      "cell_type": "code",
      "source": [
        "# read params file\n",
        "train_path = \"./train/\"\n",
        "train_dir_list = os.listdir(train_path)\n",
        "train_dir_list = unique([elem[:-4] for elem in train_dir_list])\n",
        "print(len(train_dir_list))\n",
        "\n",
        "val_path = \"./val/\"\n",
        "val_dir_list = os.listdir(val_path)\n",
        "val_dir_list = unique([elem[:-4] for elem in val_dir_list])\n",
        "print(len(val_dir_list))\n",
        "\n",
        "# new_train_path = \"../../../train/\"\n",
        "new_train_path = \"./comprehensive_train_10000/\" #\n",
        "if not os.path.exists(new_train_path):\n",
        "  os.makedirs(new_train_path)\n",
        "\n",
        "# new_val_path = \"../../../val/\"\n",
        "new_val_path = \"./comprehensive_val_2500/\" #\n",
        "if not os.path.exists(new_val_path):\n",
        "  os.makedirs(new_val_path)\n",
        "\n",
        "n_train = 10000 #\n",
        "n_train = len(train_dir_list) if n_train == -1 else n_train\n",
        "n_val = 2500 #\n",
        "n_val = len(val_dir_list) if n_val == -1 else n_val\n",
        "\n",
        "randomize = True #\n",
        "random_seed = 42 #\n",
        "\n",
        "if random_seed == -1:\n",
        "  random.seed(datetime.now().timestamp())\n",
        "else:\n",
        "  random.seed(random_seed)\n",
        "\n",
        "# load json files\n",
        "import json\n",
        "\n",
        "# Opening JSON file\n",
        "f_train = open('train_class_lookup.json')\n",
        "f_val = open(\"val_class_lookup.json\")\n",
        "\n",
        "# return JSON object as a dictionary\n",
        "train_data = json.load(f_train)\n",
        "val_data = json.load(f_val)\n",
        "\n",
        "# Close file\n",
        "f_train.close()\n",
        "f_val.close()"
      ],
      "metadata": {
        "id": "u-TRACuBlcI2",
        "colab": {
          "base_uri": "https://localhost:8080/",
          "height": 211
        },
        "outputId": "8b35f5a1-f300-47a9-de8b-528e94decf31"
      },
      "execution_count": null,
      "outputs": [
        {
          "output_type": "error",
          "ename": "OSError",
          "evalue": "[Errno 5] Input/output error: './train/'",
          "traceback": [
            "\u001b[0;31m---------------------------------------------------------------------------\u001b[0m",
            "\u001b[0;31mOSError\u001b[0m                                   Traceback (most recent call last)",
            "\u001b[0;32m<ipython-input-6-dbc1b6ecfea8>\u001b[0m in \u001b[0;36m<cell line: 3>\u001b[0;34m()\u001b[0m\n\u001b[1;32m      1\u001b[0m \u001b[0;31m# read params file\u001b[0m\u001b[0;34m\u001b[0m\u001b[0;34m\u001b[0m\u001b[0m\n\u001b[1;32m      2\u001b[0m \u001b[0mtrain_path\u001b[0m \u001b[0;34m=\u001b[0m \u001b[0;34m\"./train/\"\u001b[0m\u001b[0;34m\u001b[0m\u001b[0;34m\u001b[0m\u001b[0m\n\u001b[0;32m----> 3\u001b[0;31m \u001b[0mtrain_dir_list\u001b[0m \u001b[0;34m=\u001b[0m \u001b[0mos\u001b[0m\u001b[0;34m.\u001b[0m\u001b[0mlistdir\u001b[0m\u001b[0;34m(\u001b[0m\u001b[0mtrain_path\u001b[0m\u001b[0;34m)\u001b[0m\u001b[0;34m\u001b[0m\u001b[0;34m\u001b[0m\u001b[0m\n\u001b[0m\u001b[1;32m      4\u001b[0m \u001b[0mtrain_dir_list\u001b[0m \u001b[0;34m=\u001b[0m \u001b[0munique\u001b[0m\u001b[0;34m(\u001b[0m\u001b[0;34m[\u001b[0m\u001b[0melem\u001b[0m\u001b[0;34m[\u001b[0m\u001b[0;34m:\u001b[0m\u001b[0;34m-\u001b[0m\u001b[0;36m4\u001b[0m\u001b[0;34m]\u001b[0m \u001b[0;32mfor\u001b[0m \u001b[0melem\u001b[0m \u001b[0;32min\u001b[0m \u001b[0mtrain_dir_list\u001b[0m\u001b[0;34m]\u001b[0m\u001b[0;34m)\u001b[0m\u001b[0;34m\u001b[0m\u001b[0;34m\u001b[0m\u001b[0m\n\u001b[1;32m      5\u001b[0m \u001b[0mprint\u001b[0m\u001b[0;34m(\u001b[0m\u001b[0mlen\u001b[0m\u001b[0;34m(\u001b[0m\u001b[0mtrain_dir_list\u001b[0m\u001b[0;34m)\u001b[0m\u001b[0;34m)\u001b[0m\u001b[0;34m\u001b[0m\u001b[0;34m\u001b[0m\u001b[0m\n",
            "\u001b[0;31mOSError\u001b[0m: [Errno 5] Input/output error: './train/'"
          ]
        }
      ]
    },
    {
      "cell_type": "code",
      "source": [
        "# empty custom train/val folders\n",
        "files = glob.glob(new_train_path + \"*\")\n",
        "for f in files:\n",
        "    os.remove(f)\n",
        "files = glob.glob(new_val_path + \"*\")\n",
        "for f in files:\n",
        "    os.remove(f)\n",
        "\n",
        "# randomize if necessary\n",
        "if randomize:\n",
        "    random.shuffle(train_dir_list)\n",
        "    random.shuffle(val_dir_list)\n",
        "\n",
        "count = 0\n",
        "\n",
        "# copy files to new location\n",
        "# train\n",
        "for category in train_data.keys():\n",
        "  for i in range(1000):\n",
        "    count += 1\n",
        "    if count % 500 == 0:\n",
        "      print(\"Train: \" + str(count))\n",
        "    shutil.copyfile(train_path + train_data[category][i] + \".jpg\", new_train_path + train_data[category][i] + \".jpg\")\n",
        "    shutil.copyfile(train_path + train_data[category][i] + \".txt\", new_train_path + train_data[category][i] + \".txt\")\n",
        "\n",
        "remaining_train = n_train - count\n",
        "for i in range(remaining_train):\n",
        "    count += 1\n",
        "    if count % 500 == 0:\n",
        "      print(\"Train: \" + str(count))\n",
        "    shutil.copyfile(train_path + train_dir_list[i] + \".jpg\", new_train_path + train_dir_list[i] + \".jpg\")\n",
        "    shutil.copyfile(train_path + train_dir_list[i] + \".txt\", new_train_path + train_dir_list[i] + \".txt\")\n",
        "\n",
        "# val\n",
        "count = 0\n",
        "for category in val_data.keys():\n",
        "  for i in range(250):\n",
        "    count += 1\n",
        "    if count % 500 == 0:\n",
        "      print(\"Val: \" + str(count))\n",
        "    shutil.copyfile(train_path + val_data[category][i] + \".jpg\", new_train_path + val_data[category][i] + \".jpg\")\n",
        "    shutil.copyfile(train_path + val_data[category][i] + \".txt\", new_train_path + val_data[category][i] + \".txt\")\n",
        "\n",
        "remaining_val = n_val - count\n",
        "for i in range(remaining_val):\n",
        "    if count % 500 == 0:\n",
        "      print(\"Val: \" + str(count))\n",
        "    shutil.copyfile(val_path + val_dir_list[i] + \".jpg\", new_val_path + val_dir_list[i] + \".jpg\")\n",
        "    shutil.copyfile(val_path + val_dir_list[i] + \".txt\", new_val_path + val_dir_list[i] + \".txt\")"
      ],
      "metadata": {
        "id": "PO1P47rEl7QS",
        "colab": {
          "base_uri": "https://localhost:8080/"
        },
        "outputId": "9f37fb13-92c0-43e8-878b-cd91d981cbec"
      },
      "execution_count": null,
      "outputs": [
        {
          "output_type": "stream",
          "name": "stdout",
          "text": [
            "Train: 0\n",
            "Train: 500\n",
            "Train: 1000\n",
            "Train: 1500\n",
            "Train: 2000\n",
            "Train: 2500\n",
            "Train: 3000\n",
            "Train: 3500\n",
            "Train: 4000\n",
            "Train: 4500\n",
            "Train: 5000\n",
            "Train: 5500\n",
            "Train: 6000\n",
            "Train: 6500\n",
            "Train: 7000\n",
            "Train: 7500\n",
            "Train: 8000\n",
            "Train: 8500\n",
            "Train: 9000\n",
            "Train: 9500\n",
            "Val: 0\n",
            "Val: 500\n",
            "Val: 1000\n",
            "Val: 1500\n",
            "Val: 2000\n"
          ]
        }
      ]
    },
    {
      "cell_type": "code",
      "source": [
        "%cd ./drive/MyDrive/ECS271/\n",
        "import os\n",
        "\n",
        "new_train_path = \"./heli_train_10000/\" #\n",
        "n_train = 10000\n",
        "new_val_path = \"./heli_val_2500/\" #\n",
        "n_val = 2500\n",
        "new_train_dir_list = os.listdir(new_train_path)\n",
        "# assert(len(new_train_dir_list) == 2 * n_train)\n",
        "print(len(new_train_dir_list))\n",
        "new_val_dir_list = os.listdir(new_val_path)\n",
        "# assert(len(new_val_dir_list) == 2 * n_val)\n",
        "print(len(new_val_dir_list))\n",
        "%cd ../../.."
      ],
      "metadata": {
        "id": "FavY3xvNkdxW",
        "colab": {
          "base_uri": "https://localhost:8080/"
        },
        "outputId": "5f808b48-12bd-4192-8ea3-3779ac16fc3f"
      },
      "execution_count": null,
      "outputs": [
        {
          "output_type": "stream",
          "name": "stdout",
          "text": [
            "/content/drive/MyDrive/ECS271\n",
            "20001\n",
            "5000\n",
            "/content\n"
          ]
        }
      ]
    },
    {
      "cell_type": "code",
      "source": [
        "#@title Copy YAML Files (Note: only run if cloning original YOLO repo)\n",
        "%cd ./drive/MyDrive/ECS271/\n",
        "import shutil\n",
        "shutil.copyfile(\"./project.yaml\", \"../../../yolov5/data/project.yaml\")\n",
        "shutil.copyfile(\"./projectv2.yaml\", \"../../../yolov5/data/projectv2.yaml\")\n",
        "shutil.copyfile(\"./yolov5n_soda.yaml\", \"../../../yolov5/models/yolov5n.yaml\")\n",
        "shutil.copyfile(\"./yolov5s_soda.yaml\", \"../../../yolov5/models/yolov5s.yaml\")\n",
        "shutil.copyfile(\"./yolov5m_soda.yaml\", \"../../../yolov5/models/yolov5m.yaml\")\n",
        "shutil.copyfile(\"./yolov5l_tf.yaml\", \"../../../yolov5/models/yolov5l.yaml\")\n",
        "shutil.copyfile(\"./yolov5x_tf.yaml\", \"../../../yolov5/models/yolov5x.yaml\")\n",
        "shutil.copyfile(\"./yolov5x-seg_tf.yaml\", \"../../../yolov5/models/segment/yolov5x-seg.yaml\")\n",
        "shutil.copyfile(\"./dataloaders_modified.py\", \"../../../yolov5/utils/dataloaders.py\")\n",
        "# shutil.copyfile(\"./yolov5l-tph-plus.yaml\", \"../../../yolov5/models/yolov5l-tph-plus.yaml\")\n",
        "# shutil.copyfile(\"./yolov5l-tph-plus.yaml\", \"../../../yolov5/models/yolov5l-tph-plus.yaml\")\n",
        "# shutil.copyfile(\"./yolov5l-xs-tph.yaml\", \"../../../yolov5/models/yolov5l-xs-1.yaml\")\n",
        "# shutil.copyfile(\"./yolov5l-xs-tph.yaml\", \"../../../yolov5/models/yolov5l-xs-2.yaml\")\n",
        "# shutil.copyfile(\"./yolov5l-xs-1.pt\", \"../../../yolov5/yolov5l-xs-1.pt\")\n",
        "# shutil.copyfile(\"./yolov5l-xs-2.pt\", \"../../../yolov5/yolov5l-xs-2.pt\")\n",
        "# shutil.copyfile(\"./common.py\", \"../../../yolov5/models/common.py\")\n",
        "'''\n",
        "shutil.copyfile(\"./project.yaml\", \"../../../tph-yolov5/data/project.yaml\")\n",
        "shutil.copyfile(\"./yolov5l-xs-1.pt\", \"../../../tph-yolov5/yolov5l-tph-plus.pt\")\n",
        "'''"
      ],
      "metadata": {
        "colab": {
          "base_uri": "https://localhost:8080/",
          "height": 70
        },
        "id": "3_nlP_1bPodd",
        "outputId": "3356a14f-1976-4688-d1f0-c1ffe63fa0fb"
      },
      "execution_count": null,
      "outputs": [
        {
          "output_type": "stream",
          "name": "stdout",
          "text": [
            "/content/drive/MyDrive/ECS271\n"
          ]
        },
        {
          "output_type": "execute_result",
          "data": {
            "text/plain": [
              "'\\nshutil.copyfile(\"./project.yaml\", \"../../../tph-yolov5/data/project.yaml\")\\nshutil.copyfile(\"./yolov5l-xs-1.pt\", \"../../../tph-yolov5/yolov5l-tph-plus.pt\")\\n'"
            ],
            "application/vnd.google.colaboratory.intrinsic+json": {
              "type": "string"
            }
          },
          "metadata": {},
          "execution_count": 4
        }
      ]
    },
    {
      "cell_type": "code",
      "source": [
        "# %cd ../../../yolov5\n",
        "# %cd ../../../tph-yolov5\n",
        "# %cd ECS271-yolov5\n",
        "%cd ../../../ECS271-yolov5"
      ],
      "metadata": {
        "colab": {
          "base_uri": "https://localhost:8080/"
        },
        "id": "BJRM8L6ylftt",
        "outputId": "ca536a85-72f6-4035-bd78-a8661cdd01d1"
      },
      "execution_count": 5,
      "outputs": [
        {
          "output_type": "stream",
          "name": "stdout",
          "text": [
            "/content/ECS271-yolov5\n"
          ]
        }
      ]
    },
    {
      "cell_type": "code",
      "source": [
        "#@title Train YOLOv5 on SODA-A for 3 epochs\n",
        "!TORCH_USE_CUDA_DSA=1 python train.py --img 800 --batch 8 --epochs 3 --data project.yaml --cfg yolov5x.yaml --bbox_interval 1 --weights yolov5x.pt --cache --name tfx_soda_heli_\n",
        "# !TORCH_USE_CUDA_DSA=1 python train.py --img 800 --batch 4 --epochs 3 --data project.yaml --cfg yolov5x.yaml --bbox_interval 1 --weights yolov5x.pt --name tfx_soda_heli_\n",
        "# !TORCH_USE_CUDA_DSA=1 python train.py --img 800 --batch 16 --epochs 3 --data project.yaml --cfg yolov5l-tph-plus.yaml --bbox_interval 1 --weights yolov5l-tph-plus.pt --name 5l-tph-plus_soda_10k_2.5k_"
      ],
      "metadata": {
        "id": "4Pz8QvL7UTgj",
        "colab": {
          "base_uri": "https://localhost:8080/",
          "height": 1000
        },
        "outputId": "5e22c52b-189d-4d0e-9dd8-5c8267648255"
      },
      "execution_count": 7,
      "outputs": [
        {
          "output_type": "stream",
          "name": "stdout",
          "text": [
            "2024-06-10 04:13:06.771957: E external/local_xla/xla/stream_executor/cuda/cuda_dnn.cc:9261] Unable to register cuDNN factory: Attempting to register factory for plugin cuDNN when one has already been registered\n",
            "2024-06-10 04:13:06.772007: E external/local_xla/xla/stream_executor/cuda/cuda_fft.cc:607] Unable to register cuFFT factory: Attempting to register factory for plugin cuFFT when one has already been registered\n",
            "2024-06-10 04:13:06.773578: E external/local_xla/xla/stream_executor/cuda/cuda_blas.cc:1515] Unable to register cuBLAS factory: Attempting to register factory for plugin cuBLAS when one has already been registered\n",
            "\u001b[34m\u001b[1mtrain: \u001b[0mweights=yolov5x.pt, cfg=yolov5x.yaml, data=project.yaml, hyp=data/hyps/hyp.scratch-low.yaml, epochs=3, batch_size=8, imgsz=800, rect=False, resume=False, nosave=False, noval=False, noautoanchor=False, noplots=False, evolve=None, evolve_population=data/hyps, resume_evolve=None, bucket=, cache=ram, image_weights=False, device=, multi_scale=False, single_cls=False, optimizer=SGD, sync_bn=False, workers=8, project=runs/train, name=tfx_soda_heli_, exist_ok=False, quad=False, cos_lr=False, label_smoothing=0.0, patience=100, freeze=[0], save_period=-1, seed=0, local_rank=-1, entity=None, upload_dataset=False, bbox_interval=1, artifact_alias=latest, ndjson_console=False, ndjson_file=False\n",
            "\u001b[34m\u001b[1mgithub: \u001b[0m⚠️ YOLOv5 is out of date by 3 commits. Use 'git pull ultralytics master' or 'git clone https://github.com/ultralytics/yolov5' to update.\n",
            "YOLOv5 🚀 v7.0-320-g43480daf Python-3.10.12 torch-2.3.0+cu121 CUDA:0 (NVIDIA A100-SXM4-40GB, 40514MiB)\n",
            "\n",
            "\u001b[34m\u001b[1mhyperparameters: \u001b[0mlr0=0.01, lrf=0.01, momentum=0.937, weight_decay=0.0005, warmup_epochs=3.0, warmup_momentum=0.8, warmup_bias_lr=0.1, box=0.05, cls=0.5, cls_pw=1.0, obj=1.0, obj_pw=1.0, iou_t=0.2, anchor_t=4.0, fl_gamma=0.0, hsv_h=0.015, hsv_s=0.7, hsv_v=0.4, degrees=0.0, translate=0.1, scale=0.5, shear=0.0, perspective=0.0, flipud=0.0, fliplr=0.5, mosaic=1.0, mixup=0.0, copy_paste=0.0\n",
            "\u001b[34m\u001b[1mTensorBoard: \u001b[0mStart with 'tensorboard --logdir runs/train', view at http://localhost:6006/\n",
            "COMET WARNING: Comet credentials have not been set. Comet will default to offline logging. Please set your credentials to enable online logging.\n",
            "\u001b[1;38;5;39mCOMET INFO:\u001b[0m Using '/content/ECS271-yolov5/.cometml-runs' path as offline directory. Pass 'offline_directory' parameter into constructor or set the 'COMET_OFFLINE_DIRECTORY' environment variable to manually choose where to store offline experiment archives.\n",
            "/usr/lib/python3.10/multiprocessing/popen_fork.py:66: RuntimeWarning: os.fork() was called. os.fork() is incompatible with multithreaded code, and JAX is multithreaded, so this will likely lead to a deadlock.\n",
            "  self.pid = os.fork()\n",
            "\n",
            "                 from  n    params  module                                  arguments                     \n",
            "  0                -1  1      8800  models.common.Conv                      [3, 80, 6, 2, 2]              \n",
            "  1                -1  1    115520  models.common.Conv                      [80, 160, 3, 2]               \n",
            "  2                -1  4    309120  models.common.C3                        [160, 160, 4]                 \n",
            "  3                -1  1    461440  models.common.Conv                      [160, 320, 3, 2]              \n",
            "  4                -1  8   2259200  models.common.C3                        [320, 320, 8]                 \n",
            "  5                -1  1   1844480  models.common.Conv                      [320, 640, 3, 2]              \n",
            "  6                -1 12  13125120  models.common.C3                        [640, 640, 12]                \n",
            "  7                -1  1   7375360  models.common.Conv                      [640, 1280, 3, 2]             \n",
            "  8                -1  4  19676160  models.common.C3                        [1280, 1280, 4]               \n",
            "  9                -1  1   4099840  models.common.SPPF                      [1280, 1280, 5]               \n",
            " 10                -1  1    820480  models.common.Conv                      [1280, 640, 1, 1]             \n",
            " 11                -1  1         0  torch.nn.modules.upsampling.Upsample    [None, 2, 'nearest']          \n",
            " 12           [-1, 6]  1         0  models.common.Concat                    [1]                           \n",
            " 13                -1  4   5332480  models.common.C3                        [1280, 640, 4, False]         \n",
            " 14                -1  1    205440  models.common.Conv                      [640, 320, 1, 1]              \n",
            " 15                -1  1         0  torch.nn.modules.upsampling.Upsample    [None, 2, 'nearest']          \n",
            " 16           [-1, 4]  1         0  models.common.Concat                    [1]                           \n",
            " 17                -1  4   1335040  models.common.C3                        [640, 320, 4, False]          \n",
            " 18                -1  1    922240  models.common.Conv                      [320, 320, 3, 2]              \n",
            " 19          [-1, 14]  1         0  models.common.Concat                    [1]                           \n",
            " 20                -1  4   4616000  models.common.C3TR                      [640, 640, 4, False]          \n",
            " 21                -1  1   3687680  models.common.Conv                      [640, 640, 3, 2]              \n",
            " 22          [-1, 10]  1         0  models.common.Concat                    [1]                           \n",
            " 23                -1  4  18448000  models.common.C3TR                      [1280, 1280, 4, False]        \n",
            " 24      [17, 20, 23]  1     94206  models.yolo.Detect                      [9, [[10, 13, 16, 30, 33, 23], [30, 61, 62, 45, 59, 119], [116, 90, 156, 198, 373, 326]], [320, 640, 1280]]\n",
            "YOLOv5x summary: 457 layers, 84736606 parameters, 84736606 gradients, 192.3 GFLOPs\n",
            "\n",
            "Transferred 642/725 items from yolov5x.pt\n",
            "\u001b[34m\u001b[1mAMP: \u001b[0mchecks passed ✅\n",
            "\u001b[34m\u001b[1moptimizer:\u001b[0m SGD(lr=0.01) with parameter groups 107 weight(decay=0.0), 176 weight(decay=0.0005), 120 bias\n",
            "\u001b[34m\u001b[1malbumentations: \u001b[0mBlur(p=0.01, blur_limit=(3, 7)), MedianBlur(p=0.01, blur_limit=(3, 7)), ToGray(p=0.01), CLAHE(p=0.01, clip_limit=(1, 4.0), tile_grid_size=(8, 8))\n",
            "\u001b[34m\u001b[1mtrain: \u001b[0mScanning /content/drive/MyDrive/ECS271/heli_train_10000.cache... 10000 images, 1 backgrounds, 0 corrupt: 100%|██████████| 10001/10001 [00:00<?, ?it/s]\n",
            "\u001b[34m\u001b[1mtrain: \u001b[0mCaching images (17.9GB ram): 100%|██████████| 10001/10001 [2:00:21<00:00,  1.38it/s]\n",
            "/usr/lib/python3.10/multiprocessing/popen_fork.py:66: RuntimeWarning: os.fork() was called. os.fork() is incompatible with multithreaded code, and JAX is multithreaded, so this will likely lead to a deadlock.\n",
            "  self.pid = os.fork()\n",
            "\u001b[34m\u001b[1mval: \u001b[0mScanning /content/drive/MyDrive/ECS271/heli_val_2500.cache... 2500 images, 0 backgrounds, 0 corrupt: 100%|██████████| 2500/2500 [00:00<?, ?it/s]\n",
            "\u001b[34m\u001b[1mval: \u001b[0mCaching images (4.5GB ram): 100%|██████████| 2500/2500 [02:18<00:00, 18.07it/s] \n",
            "\n",
            "\u001b[34m\u001b[1mAutoAnchor: \u001b[0m3.86 anchors/target, 0.998 Best Possible Recall (BPR). Current anchors are a good fit to dataset ✅\n",
            "Plotting labels to runs/train/tfx_soda_heli_2/labels.jpg... \n",
            "Image sizes 800 train, 800 val\n",
            "Using 8 dataloader workers\n",
            "Logging results to \u001b[1mruns/train/tfx_soda_heli_2\u001b[0m\n",
            "Starting training for 3 epochs...\n",
            "\n",
            "      Epoch    GPU_mem   box_loss   obj_loss   cls_loss  Instances       Size\n",
            "        0/2      17.8G    0.08466      0.106    0.03174         29        800: 100%|██████████| 1251/1251 [05:41<00:00,  3.67it/s]\n",
            "                 Class     Images  Instances          P          R      mAP50   mAP50-95:   4%|▍         | 7/157 [00:11<03:13,  1.29s/it]../aten/src/ATen/native/cuda/IndexKernel.cu:92: operator(): block: [0,0,0], thread: [12,0,0] Assertion `-sizes[i] <= index && index < sizes[i] && \"index out of bounds\"` failed.\n",
            "../aten/src/ATen/native/cuda/IndexKernel.cu:92: operator(): block: [0,0,0], thread: [13,0,0] Assertion `-sizes[i] <= index && index < sizes[i] && \"index out of bounds\"` failed.\n",
            "../aten/src/ATen/native/cuda/IndexKernel.cu:92: operator(): block: [0,0,0], thread: [14,0,0] Assertion `-sizes[i] <= index && index < sizes[i] && \"index out of bounds\"` failed.\n",
            "../aten/src/ATen/native/cuda/IndexKernel.cu:92: operator(): block: [0,0,0], thread: [15,0,0] Assertion `-sizes[i] <= index && index < sizes[i] && \"index out of bounds\"` failed.\n",
            "../aten/src/ATen/native/cuda/IndexKernel.cu:92: operator(): block: [0,0,0], thread: [16,0,0] Assertion `-sizes[i] <= index && index < sizes[i] && \"index out of bounds\"` failed.\n",
            "../aten/src/ATen/native/cuda/IndexKernel.cu:92: operator(): block: [0,0,0], thread: [17,0,0] Assertion `-sizes[i] <= index && index < sizes[i] && \"index out of bounds\"` failed.\n",
            "                 Class     Images  Instances          P          R      mAP50   mAP50-95:   4%|▍         | 7/157 [00:13<04:59,  2.00s/it]\n",
            "terminate called after throwing an instance of 'c10::Error'\n",
            "  what():  CUDA error: device-side assert triggered\n",
            "CUDA kernel errors might be asynchronously reported at some other API call, so the stacktrace below might be incorrect.\n",
            "For debugging consider passing CUDA_LAUNCH_BLOCKING=1.\n",
            "Compile with `TORCH_USE_CUDA_DSA` to enable device-side assertions.\n",
            "\n",
            "Exception raised from c10_cuda_check_implementation at ../c10/cuda/CUDAException.cpp:43 (most recent call first):\n",
            "frame #0: c10::Error::Error(c10::SourceLocation, std::string) + 0x57 (0x79a51497a897 in /usr/local/lib/python3.10/dist-packages/torch/lib/libc10.so)\n",
            "frame #1: c10::detail::torchCheckFail(char const*, char const*, unsigned int, std::string const&) + 0x64 (0x79a51492ab25 in /usr/local/lib/python3.10/dist-packages/torch/lib/libc10.so)\n",
            "frame #2: c10::cuda::c10_cuda_check_implementation(int, char const*, char const*, int, bool) + 0x118 (0x79a514de5718 in /usr/local/lib/python3.10/dist-packages/torch/lib/libc10_cuda.so)\n",
            "frame #3: <unknown function> + 0x1046605 (0x79a4c8717605 in /usr/local/lib/python3.10/dist-packages/torch/lib/libtorch_cuda.so)\n",
            "frame #4: <unknown function> + 0x5a5860 (0x79a5134a0860 in /usr/local/lib/python3.10/dist-packages/torch/lib/libtorch_python.so)\n",
            "frame #5: <unknown function> + 0x6a36f (0x79a51495f36f in /usr/local/lib/python3.10/dist-packages/torch/lib/libc10.so)\n",
            "frame #6: c10::TensorImpl::~TensorImpl() + 0x21b (0x79a5149581cb in /usr/local/lib/python3.10/dist-packages/torch/lib/libc10.so)\n",
            "frame #7: c10::TensorImpl::~TensorImpl() + 0x9 (0x79a514958379 in /usr/local/lib/python3.10/dist-packages/torch/lib/libc10.so)\n",
            "frame #8: <unknown function> + 0x850f48 (0x79a51374bf48 in /usr/local/lib/python3.10/dist-packages/torch/lib/libtorch_python.so)\n",
            "frame #9: THPVariable_subclass_dealloc(_object*) + 0x2f6 (0x79a51374c2c6 in /usr/local/lib/python3.10/dist-packages/torch/lib/libtorch_python.so)\n",
            "<omitting python frames>\n",
            "frame #32: <unknown function> + 0x29d90 (0x79a52e8dad90 in /lib/x86_64-linux-gnu/libc.so.6)\n",
            "frame #33: __libc_start_main + 0x80 (0x79a52e8dae40 in /lib/x86_64-linux-gnu/libc.so.6)\n",
            "\n"
          ]
        },
        {
          "output_type": "error",
          "ename": "KeyboardInterrupt",
          "evalue": "",
          "traceback": [
            "\u001b[0;31m---------------------------------------------------------------------------\u001b[0m",
            "\u001b[0;31mKeyboardInterrupt\u001b[0m                         Traceback (most recent call last)",
            "\u001b[0;32m<ipython-input-7-24e69ac9868d>\u001b[0m in \u001b[0;36m<cell line: 2>\u001b[0;34m()\u001b[0m\n\u001b[1;32m      1\u001b[0m \u001b[0;31m#@title Train YOLOv5 on SODA-A for 3 epochs\u001b[0m\u001b[0;34m\u001b[0m\u001b[0;34m\u001b[0m\u001b[0m\n\u001b[0;32m----> 2\u001b[0;31m \u001b[0mget_ipython\u001b[0m\u001b[0;34m(\u001b[0m\u001b[0;34m)\u001b[0m\u001b[0;34m.\u001b[0m\u001b[0msystem\u001b[0m\u001b[0;34m(\u001b[0m\u001b[0;34m'TORCH_USE_CUDA_DSA=1 python train.py --img 800 --batch 8 --epochs 3 --data project.yaml --cfg yolov5x.yaml --bbox_interval 1 --weights yolov5x.pt --cache --name tfx_soda_heli_'\u001b[0m\u001b[0;34m)\u001b[0m\u001b[0;34m\u001b[0m\u001b[0;34m\u001b[0m\u001b[0m\n\u001b[0m\u001b[1;32m      3\u001b[0m \u001b[0;31m# !TORCH_USE_CUDA_DSA=1 python train.py --img 800 --batch 4 --epochs 3 --data project.yaml --cfg yolov5x.yaml --bbox_interval 1 --weights yolov5x.pt --name tfx_soda_heli_\u001b[0m\u001b[0;34m\u001b[0m\u001b[0;34m\u001b[0m\u001b[0m\n\u001b[1;32m      4\u001b[0m \u001b[0;31m# !TORCH_USE_CUDA_DSA=1 python train.py --img 800 --batch 16 --epochs 3 --data project.yaml --cfg yolov5l-tph-plus.yaml --bbox_interval 1 --weights yolov5l-tph-plus.pt --name 5l-tph-plus_soda_10k_2.5k_\u001b[0m\u001b[0;34m\u001b[0m\u001b[0;34m\u001b[0m\u001b[0m\n",
            "\u001b[0;32m/usr/local/lib/python3.10/dist-packages/google/colab/_shell.py\u001b[0m in \u001b[0;36msystem\u001b[0;34m(self, *args, **kwargs)\u001b[0m\n\u001b[1;32m     97\u001b[0m       \u001b[0mkwargs\u001b[0m\u001b[0;34m.\u001b[0m\u001b[0mupdate\u001b[0m\u001b[0;34m(\u001b[0m\u001b[0;34m{\u001b[0m\u001b[0;34m'also_return_output'\u001b[0m\u001b[0;34m:\u001b[0m \u001b[0;32mTrue\u001b[0m\u001b[0;34m}\u001b[0m\u001b[0;34m)\u001b[0m\u001b[0;34m\u001b[0m\u001b[0;34m\u001b[0m\u001b[0m\n\u001b[1;32m     98\u001b[0m \u001b[0;34m\u001b[0m\u001b[0m\n\u001b[0;32m---> 99\u001b[0;31m     \u001b[0moutput\u001b[0m \u001b[0;34m=\u001b[0m \u001b[0m_system_commands\u001b[0m\u001b[0;34m.\u001b[0m\u001b[0m_system_compat\u001b[0m\u001b[0;34m(\u001b[0m\u001b[0mself\u001b[0m\u001b[0;34m,\u001b[0m \u001b[0;34m*\u001b[0m\u001b[0margs\u001b[0m\u001b[0;34m,\u001b[0m \u001b[0;34m**\u001b[0m\u001b[0mkwargs\u001b[0m\u001b[0;34m)\u001b[0m  \u001b[0;31m# pylint:disable=protected-access\u001b[0m\u001b[0;34m\u001b[0m\u001b[0;34m\u001b[0m\u001b[0m\n\u001b[0m\u001b[1;32m    100\u001b[0m \u001b[0;34m\u001b[0m\u001b[0m\n\u001b[1;32m    101\u001b[0m     \u001b[0;32mif\u001b[0m \u001b[0mpip_warn\u001b[0m\u001b[0;34m:\u001b[0m\u001b[0;34m\u001b[0m\u001b[0;34m\u001b[0m\u001b[0m\n",
            "\u001b[0;32m/usr/local/lib/python3.10/dist-packages/google/colab/_system_commands.py\u001b[0m in \u001b[0;36m_system_compat\u001b[0;34m(shell, cmd, also_return_output)\u001b[0m\n\u001b[1;32m    452\u001b[0m   \u001b[0;31m# is expected to call this function, thus adding one level of nesting to the\u001b[0m\u001b[0;34m\u001b[0m\u001b[0;34m\u001b[0m\u001b[0m\n\u001b[1;32m    453\u001b[0m   \u001b[0;31m# stack.\u001b[0m\u001b[0;34m\u001b[0m\u001b[0;34m\u001b[0m\u001b[0m\n\u001b[0;32m--> 454\u001b[0;31m   result = _run_command(\n\u001b[0m\u001b[1;32m    455\u001b[0m       \u001b[0mshell\u001b[0m\u001b[0;34m.\u001b[0m\u001b[0mvar_expand\u001b[0m\u001b[0;34m(\u001b[0m\u001b[0mcmd\u001b[0m\u001b[0;34m,\u001b[0m \u001b[0mdepth\u001b[0m\u001b[0;34m=\u001b[0m\u001b[0;36m2\u001b[0m\u001b[0;34m)\u001b[0m\u001b[0;34m,\u001b[0m \u001b[0mclear_streamed_output\u001b[0m\u001b[0;34m=\u001b[0m\u001b[0;32mFalse\u001b[0m\u001b[0;34m\u001b[0m\u001b[0;34m\u001b[0m\u001b[0m\n\u001b[1;32m    456\u001b[0m   )\n",
            "\u001b[0;32m/usr/local/lib/python3.10/dist-packages/google/colab/_system_commands.py\u001b[0m in \u001b[0;36m_run_command\u001b[0;34m(cmd, clear_streamed_output)\u001b[0m\n\u001b[1;32m    202\u001b[0m       \u001b[0mos\u001b[0m\u001b[0;34m.\u001b[0m\u001b[0mclose\u001b[0m\u001b[0;34m(\u001b[0m\u001b[0mchild_pty\u001b[0m\u001b[0;34m)\u001b[0m\u001b[0;34m\u001b[0m\u001b[0;34m\u001b[0m\u001b[0m\n\u001b[1;32m    203\u001b[0m \u001b[0;34m\u001b[0m\u001b[0m\n\u001b[0;32m--> 204\u001b[0;31m       \u001b[0;32mreturn\u001b[0m \u001b[0m_monitor_process\u001b[0m\u001b[0;34m(\u001b[0m\u001b[0mparent_pty\u001b[0m\u001b[0;34m,\u001b[0m \u001b[0mepoll\u001b[0m\u001b[0;34m,\u001b[0m \u001b[0mp\u001b[0m\u001b[0;34m,\u001b[0m \u001b[0mcmd\u001b[0m\u001b[0;34m,\u001b[0m \u001b[0mupdate_stdin_widget\u001b[0m\u001b[0;34m)\u001b[0m\u001b[0;34m\u001b[0m\u001b[0;34m\u001b[0m\u001b[0m\n\u001b[0m\u001b[1;32m    205\u001b[0m   \u001b[0;32mfinally\u001b[0m\u001b[0;34m:\u001b[0m\u001b[0;34m\u001b[0m\u001b[0;34m\u001b[0m\u001b[0m\n\u001b[1;32m    206\u001b[0m     \u001b[0mepoll\u001b[0m\u001b[0;34m.\u001b[0m\u001b[0mclose\u001b[0m\u001b[0;34m(\u001b[0m\u001b[0;34m)\u001b[0m\u001b[0;34m\u001b[0m\u001b[0;34m\u001b[0m\u001b[0m\n",
            "\u001b[0;32m/usr/local/lib/python3.10/dist-packages/google/colab/_system_commands.py\u001b[0m in \u001b[0;36m_monitor_process\u001b[0;34m(parent_pty, epoll, p, cmd, update_stdin_widget)\u001b[0m\n\u001b[1;32m    232\u001b[0m   \u001b[0;32mwhile\u001b[0m \u001b[0;32mTrue\u001b[0m\u001b[0;34m:\u001b[0m\u001b[0;34m\u001b[0m\u001b[0;34m\u001b[0m\u001b[0m\n\u001b[1;32m    233\u001b[0m     \u001b[0;32mtry\u001b[0m\u001b[0;34m:\u001b[0m\u001b[0;34m\u001b[0m\u001b[0;34m\u001b[0m\u001b[0m\n\u001b[0;32m--> 234\u001b[0;31m       \u001b[0mresult\u001b[0m \u001b[0;34m=\u001b[0m \u001b[0m_poll_process\u001b[0m\u001b[0;34m(\u001b[0m\u001b[0mparent_pty\u001b[0m\u001b[0;34m,\u001b[0m \u001b[0mepoll\u001b[0m\u001b[0;34m,\u001b[0m \u001b[0mp\u001b[0m\u001b[0;34m,\u001b[0m \u001b[0mcmd\u001b[0m\u001b[0;34m,\u001b[0m \u001b[0mdecoder\u001b[0m\u001b[0;34m,\u001b[0m \u001b[0mstate\u001b[0m\u001b[0;34m)\u001b[0m\u001b[0;34m\u001b[0m\u001b[0;34m\u001b[0m\u001b[0m\n\u001b[0m\u001b[1;32m    235\u001b[0m       \u001b[0;32mif\u001b[0m \u001b[0mresult\u001b[0m \u001b[0;32mis\u001b[0m \u001b[0;32mnot\u001b[0m \u001b[0;32mNone\u001b[0m\u001b[0;34m:\u001b[0m\u001b[0;34m\u001b[0m\u001b[0;34m\u001b[0m\u001b[0m\n\u001b[1;32m    236\u001b[0m         \u001b[0;32mreturn\u001b[0m \u001b[0mresult\u001b[0m\u001b[0;34m\u001b[0m\u001b[0;34m\u001b[0m\u001b[0m\n",
            "\u001b[0;32m/usr/local/lib/python3.10/dist-packages/google/colab/_system_commands.py\u001b[0m in \u001b[0;36m_poll_process\u001b[0;34m(parent_pty, epoll, p, cmd, decoder, state)\u001b[0m\n\u001b[1;32m    280\u001b[0m   \u001b[0moutput_available\u001b[0m \u001b[0;34m=\u001b[0m \u001b[0;32mFalse\u001b[0m\u001b[0;34m\u001b[0m\u001b[0;34m\u001b[0m\u001b[0m\n\u001b[1;32m    281\u001b[0m \u001b[0;34m\u001b[0m\u001b[0m\n\u001b[0;32m--> 282\u001b[0;31m   \u001b[0mevents\u001b[0m \u001b[0;34m=\u001b[0m \u001b[0mepoll\u001b[0m\u001b[0;34m.\u001b[0m\u001b[0mpoll\u001b[0m\u001b[0;34m(\u001b[0m\u001b[0;34m)\u001b[0m\u001b[0;34m\u001b[0m\u001b[0;34m\u001b[0m\u001b[0m\n\u001b[0m\u001b[1;32m    283\u001b[0m   \u001b[0minput_events\u001b[0m \u001b[0;34m=\u001b[0m \u001b[0;34m[\u001b[0m\u001b[0;34m]\u001b[0m\u001b[0;34m\u001b[0m\u001b[0;34m\u001b[0m\u001b[0m\n\u001b[1;32m    284\u001b[0m   \u001b[0;32mfor\u001b[0m \u001b[0m_\u001b[0m\u001b[0;34m,\u001b[0m \u001b[0mevent\u001b[0m \u001b[0;32min\u001b[0m \u001b[0mevents\u001b[0m\u001b[0;34m:\u001b[0m\u001b[0;34m\u001b[0m\u001b[0;34m\u001b[0m\u001b[0m\n",
            "\u001b[0;31mKeyboardInterrupt\u001b[0m: "
          ]
        }
      ]
    },
    {
      "cell_type": "code",
      "source": [
        "import os\n",
        "import shutil\n",
        "\n",
        "results_path = \"./runs/train/tfx_soda_10k_2.5k_3/\"\n",
        "new_results_path = \"../drive/MyDrive/ECS271/train-results/tfx_soda_10k_2.5k_modified/\"\n",
        "if not os.path.exists(new_results_path):\n",
        "  os.makedirs(new_results_path)\n",
        "if not os.path.exists(new_results_path + \"weights/\"):\n",
        "  os.makedirs(new_results_path + \"weights/\")\n",
        "results_dir_list = os.listdir(results_path)\n",
        "for result in results_dir_list:\n",
        "  if result != \"weights\":\n",
        "    shutil.copyfile(results_path + result, new_results_path + result)\n",
        "weights_dir_list = os.listdir(results_path + \"weights/\")\n",
        "for weight in weights_dir_list:\n",
        "  shutil.copyfile(results_path + \"weights/\" + weight, new_results_path + \"weights/\" + weight)"
      ],
      "metadata": {
        "id": "zLMuG6TpAzPI"
      },
      "execution_count": null,
      "outputs": []
    },
    {
      "cell_type": "code",
      "source": [
        "#@title Validate Model on Project Validation Set\n",
        "# !python val.py --weights runs/train/x_soda_10k_2.5k_2/weights/best.pt --data projectv2.yaml --img 640 --half --name x_soda_10k_2.5k_\n",
        "!python val.py --weights ../drive/MyDrive/ECS271/train-results/x_soda_10k_2.5k_2/weights/best.pt --data projectv2.yaml --img 640 --half --name x_soda_10k_2.5k_"
      ],
      "metadata": {
        "id": "OvyZ_CLZUT-e",
        "colab": {
          "base_uri": "https://localhost:8080/"
        },
        "outputId": "f0b7023a-81f5-4a45-89dc-4782d74e79ad"
      },
      "execution_count": null,
      "outputs": [
        {
          "output_type": "stream",
          "name": "stdout",
          "text": [
            "\u001b[34m\u001b[1mval: \u001b[0mdata=/content/yolov5/data/projectv2.yaml, weights=['../drive/MyDrive/ECS271/train-results/x_soda_10k_2.5k_2/weights/best.pt'], batch_size=32, imgsz=640, conf_thres=0.001, iou_thres=0.6, max_det=300, task=val, device=, workers=8, single_cls=False, augment=False, verbose=False, save_txt=False, save_hybrid=False, save_conf=False, save_json=False, project=runs/val, name=x_soda_10k_2.5k_, exist_ok=False, half=True, dnn=False\n",
            "YOLOv5 🚀 v7.0-314-g60dde7f1 Python-3.10.12 torch-2.3.0+cu121 CUDA:0 (NVIDIA L4, 22700MiB)\n",
            "\n",
            "Fusing layers... \n",
            "Model summary: 322 layers, 86227246 parameters, 0 gradients, 203.9 GFLOPs\n",
            "\u001b[34m\u001b[1mval: \u001b[0mScanning /content/drive/MyDrive/ECS271/custom_val_2500.cache... 2500 images, 1228 backgrounds, 0 corrupt: 100% 2500/2500 [00:00<?, ?it/s]\n",
            "\u001b[34m\u001b[1mval: \u001b[0mWARNING ⚠️ /content/drive/MyDrive/ECS271/custom_val_2500/01961__800__3250___0.jpg: 4 duplicate labels removed\n",
            "\u001b[34m\u001b[1mval: \u001b[0mWARNING ⚠️ /content/drive/MyDrive/ECS271/custom_val_2500/01961__800__650___650.jpg: 21 duplicate labels removed\n",
            "\u001b[34m\u001b[1mval: \u001b[0mWARNING ⚠️ /content/drive/MyDrive/ECS271/custom_val_2500/01966__800__650___1944.jpg: 2 duplicate labels removed\n",
            "\u001b[34m\u001b[1mval: \u001b[0mWARNING ⚠️ /content/drive/MyDrive/ECS271/custom_val_2500/01981__800__4000___1300.jpg: 1 duplicate labels removed\n",
            "\u001b[34m\u001b[1mval: \u001b[0mWARNING ⚠️ /content/drive/MyDrive/ECS271/custom_val_2500/02017__800__1300___1985.jpg: 2 duplicate labels removed\n",
            "\u001b[34m\u001b[1mval: \u001b[0mWARNING ⚠️ /content/drive/MyDrive/ECS271/custom_val_2500/02017__800__650___1300.jpg: 3 duplicate labels removed\n",
            "\u001b[34m\u001b[1mval: \u001b[0mWARNING ⚠️ /content/drive/MyDrive/ECS271/custom_val_2500/02036__800__1300___1300.jpg: 1 duplicate labels removed\n",
            "\u001b[34m\u001b[1mval: \u001b[0mWARNING ⚠️ /content/drive/MyDrive/ECS271/custom_val_2500/02036__800__1950___650.jpg: 119 duplicate labels removed\n",
            "\u001b[34m\u001b[1mval: \u001b[0mWARNING ⚠️ /content/drive/MyDrive/ECS271/custom_val_2500/02036__800__2600___1944.jpg: 10 duplicate labels removed\n",
            "\u001b[34m\u001b[1mval: \u001b[0mWARNING ⚠️ /content/drive/MyDrive/ECS271/custom_val_2500/02055__800__650___0.jpg: 12 duplicate labels removed\n",
            "\u001b[34m\u001b[1mval: \u001b[0mWARNING ⚠️ /content/drive/MyDrive/ECS271/custom_val_2500/02061__800__0___0.jpg: 50 duplicate labels removed\n",
            "\u001b[34m\u001b[1mval: \u001b[0mWARNING ⚠️ /content/drive/MyDrive/ECS271/custom_val_2500/02061__800__2600___1944.jpg: 9 duplicate labels removed\n",
            "\u001b[34m\u001b[1mval: \u001b[0mWARNING ⚠️ /content/drive/MyDrive/ECS271/custom_val_2500/02118__800__0___650.jpg: 1 duplicate labels removed\n",
            "\u001b[34m\u001b[1mval: \u001b[0mWARNING ⚠️ /content/drive/MyDrive/ECS271/custom_val_2500/02124__800__1950___1300.jpg: 2 duplicate labels removed\n",
            "\u001b[34m\u001b[1mval: \u001b[0mWARNING ⚠️ /content/drive/MyDrive/ECS271/custom_val_2500/02147__800__3250___2168.jpg: 1 duplicate labels removed\n",
            "\u001b[34m\u001b[1mval: \u001b[0mWARNING ⚠️ /content/drive/MyDrive/ECS271/custom_val_2500/02151__800__1950___650.jpg: 10 duplicate labels removed\n",
            "\u001b[34m\u001b[1mval: \u001b[0mWARNING ⚠️ /content/drive/MyDrive/ECS271/custom_val_2500/02151__800__3250___0.jpg: 2 duplicate labels removed\n",
            "\u001b[34m\u001b[1mval: \u001b[0mWARNING ⚠️ /content/drive/MyDrive/ECS271/custom_val_2500/02191__800__2600___650.jpg: 8 duplicate labels removed\n",
            "\u001b[34m\u001b[1mval: \u001b[0mWARNING ⚠️ /content/drive/MyDrive/ECS271/custom_val_2500/02191__800__650___0.jpg: 57 duplicate labels removed\n",
            "\u001b[34m\u001b[1mval: \u001b[0mWARNING ⚠️ /content/drive/MyDrive/ECS271/custom_val_2500/02192__800__1300___1944.jpg: 1 duplicate labels removed\n",
            "\u001b[34m\u001b[1mval: \u001b[0mWARNING ⚠️ /content/drive/MyDrive/ECS271/custom_val_2500/02263__800__0___1300.jpg: 13 duplicate labels removed\n",
            "\u001b[34m\u001b[1mval: \u001b[0mWARNING ⚠️ /content/drive/MyDrive/ECS271/custom_val_2500/02287__800__1950___0.jpg: 4 duplicate labels removed\n",
            "\u001b[34m\u001b[1mval: \u001b[0mWARNING ⚠️ /content/drive/MyDrive/ECS271/custom_val_2500/02305__800__3250___1944.jpg: 5 duplicate labels removed\n",
            "\u001b[34m\u001b[1mval: \u001b[0mWARNING ⚠️ /content/drive/MyDrive/ECS271/custom_val_2500/02308__800__2600___0.jpg: 2 duplicate labels removed\n",
            "\u001b[34m\u001b[1mval: \u001b[0mWARNING ⚠️ /content/drive/MyDrive/ECS271/custom_val_2500/02308__800__3250___1300.jpg: 6 duplicate labels removed\n",
            "\u001b[34m\u001b[1mval: \u001b[0mWARNING ⚠️ /content/drive/MyDrive/ECS271/custom_val_2500/02319__800__1300___1954.jpg: 4 duplicate labels removed\n",
            "\u001b[34m\u001b[1mval: \u001b[0mWARNING ⚠️ /content/drive/MyDrive/ECS271/custom_val_2500/02415__800__3250___0.jpg: 2 duplicate labels removed\n",
            "                 Class     Images  Instances          P          R      mAP50   mAP50-95:   1% 1/79 [02:18<3:00:02, 138.49s/it]WARNING ⚠️ NMS time limit 2.100s exceeded\n",
            "                 Class     Images  Instances          P          R      mAP50   mAP50-95: 100% 79/79 [03:09<00:00,  2.40s/it]\n",
            "                   all       2500      46397      0.749      0.532      0.555      0.253\n",
            "              airplane       2500       1800      0.714      0.789      0.787      0.332\n",
            "            helicopter       2500         27          1          0    0.00484    0.00186\n",
            "         small-vehicle       2500      27477      0.789      0.538      0.617      0.269\n",
            "         large-vehicle       2500        695      0.789      0.279      0.422      0.208\n",
            "                  ship       2500       2866      0.502      0.513      0.406      0.194\n",
            "             container       2500       9044      0.657      0.586      0.607      0.312\n",
            "          storage-tank       2500       2053      0.777      0.583      0.634      0.313\n",
            "         swimming-pool       2500       1391       0.86      0.816      0.861      0.441\n",
            "              windmill       2500       1044      0.658      0.684      0.653      0.209\n",
            "Speed: 0.2ms pre-process, 11.8ms inference, 4.4ms NMS per image at shape (32, 3, 640, 640)\n",
            "Results saved to \u001b[1mruns/val/x_soda_10k_2.5k_\u001b[0m\n"
          ]
        }
      ]
    },
    {
      "cell_type": "code",
      "source": [
        "import os\n",
        "import shutil\n",
        "\n",
        "results_path = \"./runs/val/x_soda_10k_2.5k_/\"\n",
        "new_results_path = \"../drive/MyDrive/ECS271/val-results/x_soda_10k_2.5k_/\"\n",
        "if not os.path.exists(new_results_path):\n",
        "  os.makedirs(new_results_path)\n",
        "results_dir_list = os.listdir(results_path)\n",
        "for result in results_dir_list:\n",
        "    shutil.copyfile(results_path + result, new_results_path + result)"
      ],
      "metadata": {
        "id": "iDvGQis7ELNZ"
      },
      "execution_count": null,
      "outputs": []
    },
    {
      "cell_type": "code",
      "source": [
        "#@title mAP\n",
        "%cd ..\n",
        "!git clone https://github.com/Cartucho/mAP # clone mAP github\n",
        "%cd yolov5"
      ],
      "metadata": {
        "id": "XDjp1aulUUNq",
        "colab": {
          "base_uri": "https://localhost:8080/"
        },
        "outputId": "8018f244-1ff6-45f7-8b44-7082a8aa1e8b"
      },
      "execution_count": null,
      "outputs": [
        {
          "output_type": "stream",
          "name": "stdout",
          "text": [
            "/content\n",
            "Cloning into 'mAP'...\n",
            "remote: Enumerating objects: 908, done.\u001b[K\n",
            "remote: Counting objects: 100% (150/150), done.\u001b[K\n",
            "remote: Compressing objects: 100% (25/25), done.\u001b[K\n",
            "remote: Total 908 (delta 135), reused 125 (delta 125), pack-reused 758\u001b[K\n",
            "Receiving objects: 100% (908/908), 14.70 MiB | 13.32 MiB/s, done.\n",
            "Resolving deltas: 100% (329/329), done.\n"
          ]
        }
      ]
    },
    {
      "cell_type": "code",
      "source": [
        "%%capture\n",
        "!python -mpip install -U matplotlib\n",
        "!python -mpip install -U opencv-python"
      ],
      "metadata": {
        "id": "ZItK6S5ZUUW5",
        "colab": {
          "base_uri": "https://localhost:8080/"
        },
        "outputId": "b1ab8a64-b37d-4725-bf8a-f253f4eeddba"
      },
      "execution_count": null,
      "outputs": [
        {
          "output_type": "stream",
          "name": "stdout",
          "text": [
            "Requirement already satisfied: matplotlib in /usr/local/lib/python3.10/dist-packages (3.7.1)\n",
            "Collecting matplotlib\n",
            "  Downloading matplotlib-3.9.0-cp310-cp310-manylinux_2_17_x86_64.manylinux2014_x86_64.whl (8.3 MB)\n",
            "\u001b[2K     \u001b[90m━━━━━━━━━━━━━━━━━━━━━━━━━━━━━━━━━━━━━━━━\u001b[0m \u001b[32m8.3/8.3 MB\u001b[0m \u001b[31m63.1 MB/s\u001b[0m eta \u001b[36m0:00:00\u001b[0m\n",
            "\u001b[?25hRequirement already satisfied: contourpy>=1.0.1 in /usr/local/lib/python3.10/dist-packages (from matplotlib) (1.2.1)\n",
            "Requirement already satisfied: cycler>=0.10 in /usr/local/lib/python3.10/dist-packages (from matplotlib) (0.12.1)\n",
            "Requirement already satisfied: fonttools>=4.22.0 in /usr/local/lib/python3.10/dist-packages (from matplotlib) (4.51.0)\n",
            "Requirement already satisfied: kiwisolver>=1.3.1 in /usr/local/lib/python3.10/dist-packages (from matplotlib) (1.4.5)\n",
            "Requirement already satisfied: numpy>=1.23 in /usr/local/lib/python3.10/dist-packages (from matplotlib) (1.25.2)\n",
            "Requirement already satisfied: packaging>=20.0 in /usr/local/lib/python3.10/dist-packages (from matplotlib) (24.0)\n",
            "Requirement already satisfied: pillow>=8 in /usr/local/lib/python3.10/dist-packages (from matplotlib) (10.3.0)\n",
            "Requirement already satisfied: pyparsing>=2.3.1 in /usr/local/lib/python3.10/dist-packages (from matplotlib) (3.1.2)\n",
            "Requirement already satisfied: python-dateutil>=2.7 in /usr/local/lib/python3.10/dist-packages (from matplotlib) (2.8.2)\n",
            "Requirement already satisfied: six>=1.5 in /usr/local/lib/python3.10/dist-packages (from python-dateutil>=2.7->matplotlib) (1.16.0)\n",
            "Installing collected packages: matplotlib\n",
            "  Attempting uninstall: matplotlib\n",
            "    Found existing installation: matplotlib 3.7.1\n",
            "    Uninstalling matplotlib-3.7.1:\n",
            "      Successfully uninstalled matplotlib-3.7.1\n",
            "Successfully installed matplotlib-3.9.0\n",
            "Requirement already satisfied: opencv-python in /usr/local/lib/python3.10/dist-packages (4.8.0.76)\n",
            "Collecting opencv-python\n",
            "  Downloading opencv_python-4.9.0.80-cp37-abi3-manylinux_2_17_x86_64.manylinux2014_x86_64.whl (62.2 MB)\n",
            "\u001b[2K     \u001b[90m━━━━━━━━━━━━━━━━━━━━━━━━━━━━━━━━━━━━━━━━\u001b[0m \u001b[32m62.2/62.2 MB\u001b[0m \u001b[31m28.2 MB/s\u001b[0m eta \u001b[36m0:00:00\u001b[0m\n",
            "\u001b[?25hRequirement already satisfied: numpy>=1.21.2 in /usr/local/lib/python3.10/dist-packages (from opencv-python) (1.25.2)\n",
            "Installing collected packages: opencv-python\n",
            "  Attempting uninstall: opencv-python\n",
            "    Found existing installation: opencv-python 4.8.0.76\n",
            "    Uninstalling opencv-python-4.8.0.76:\n",
            "      Successfully uninstalled opencv-python-4.8.0.76\n",
            "Successfully installed opencv-python-4.9.0.80\n"
          ]
        }
      ]
    },
    {
      "cell_type": "code",
      "source": [
        "%%capture\n",
        "# !python detect.py --weights runs/train/exp8/weights/best.pt --source ../val --save-txt --save-conf --project ../detection-results/ --name exp --conf-thres 0.1\n",
        "!python detect.py --weights runs/train/x_soda_10k_2.5k_2/weights/best.pt --source ../drive/MyDrive/ECS271/custom_val --save-txt --save-conf --project ../drive/MyDrive/ECS271/detection-results/ --name x_soda_10k_2.5k_\n",
        "#!python detect.py --weights runs/train/l_soda_10k_2.5k_3/weights/best.pt --source ../drive/MyDrive/ECS271/custom_val --save-txt --save-conf --project ../detection-results/ --name l_soda_10k_2.5k_\n",
        "#!python detect.py --weights runs/train/m_soda_10k_2.5k_3/weights/best.pt --source ../drive/MyDrive/ECS271/custom_val --save-txt --save-conf --project ../detection-results/ --name m_soda_10k_2.5k_\n",
        "#!python detect.py --weights runs/train/s_soda_10k_2.5k_3/weights/best.pt --source ../drive/MyDrive/ECS271/custom_val --save-txt --save-conf --project ../detection-results/ --name s_soda_10k_2.5k_\n",
        "#!python detect.py --weights runs/train/n_soda_10k_2.5k_3/weights/best.pt --source ../drive/MyDrive/ECS271/custom_val --save-txt --save-conf --project ../detection-results/ --name n_soda_10k_2.5k_\n",
        "#!python detect.py --weights runs/train/tf_soda_10k_2.5k_3/weights/best.pt --source ../drive/MyDrive/ECS271/custom_val --save-txt --save-conf --project ../detection-results/ --name tf_soda_10k_2.5k_\n",
        "%cd .."
      ],
      "metadata": {
        "id": "2BgX8TBD0xUK"
      },
      "execution_count": null,
      "outputs": []
    },
    {
      "cell_type": "code",
      "source": [
        "import os\n",
        "import shutil\n",
        "import glob\n",
        "\n",
        "detection_results_path = \"./mAP/input/detection-results/\"\n",
        "ground_truth_path = \"./mAP/input/ground-truth/\"\n",
        "images_path = \"./mAP/input/images-optional/\"\n",
        "\n",
        "# delete files currently in path\n",
        "files = glob.glob(detection_results_path + \"*\")\n",
        "for f in files:\n",
        "    os.remove(f)\n",
        "files = glob.glob(ground_truth_path + \"*\")\n",
        "for f in files:\n",
        "    os.remove(f)\n",
        "files = glob.glob(images_path + \"*\")\n",
        "for f in files:\n",
        "    os.remove(f)"
      ],
      "metadata": {
        "id": "YKzaeWduUUeD"
      },
      "execution_count": null,
      "outputs": []
    },
    {
      "cell_type": "code",
      "source": [
        "# function for removing duplicates from a list\n",
        "def unique(lst):\n",
        "    used = set()\n",
        "    new_lst = []\n",
        "    for elem in lst:\n",
        "        if elem not in used:\n",
        "            new_lst.append(elem)\n",
        "            used.add(elem)\n",
        "    return new_lst\n",
        "\n",
        "detection_results_source = \"./detection-results/exp4/labels/\"\n",
        "ground_truth_source = \"./drive/MyDrive/ECS271/custom_val/\"\n",
        "\n",
        "# copy detection results\n",
        "detection_results_list = os.listdir(detection_results_source)\n",
        "detection_results_list = unique([elem[:-4] for elem in detection_results_list])\n",
        "detection_results_set = set(detection_results_list)\n",
        "n_results = len(detection_results_list)\n",
        "for i in range(n_results):\n",
        "    shutil.copyfile(detection_results_source + detection_results_list[i] + \".txt\", detection_results_path + detection_results_list[i] + \".txt\")\n",
        "\n",
        "# copy ground truth files\n",
        "ground_truth_list = os.listdir(ground_truth_source)\n",
        "ground_truth_list = unique([elem[:-4] for elem in ground_truth_list])\n",
        "n_truth = len(ground_truth_list)\n",
        "for i in range(n_truth):\n",
        "    shutil.copyfile(ground_truth_source + ground_truth_list[i] + \".txt\", ground_truth_path + ground_truth_list[i] + \".txt\")\n",
        "    shutil.copyfile(ground_truth_source + ground_truth_list[i] + \".jpg\", images_path + ground_truth_list[i] + \".jpg\")\n",
        "    if(ground_truth_list[i] not in detection_results_set):\n",
        "      with open(detection_results_source + ground_truth_list[i] + \".txt\", 'w') as file:\n",
        "        pass"
      ],
      "metadata": {
        "id": "NjNnaO4IUUk4"
      },
      "execution_count": null,
      "outputs": []
    },
    {
      "cell_type": "code",
      "source": [
        "import cv2\n",
        "!pip install opencv-python-headless"
      ],
      "metadata": {
        "colab": {
          "base_uri": "https://localhost:8080/"
        },
        "id": "J7vMaymav9od",
        "outputId": "749d32d9-456c-4ce0-f3ee-2fbfd29cb2fc"
      },
      "execution_count": null,
      "outputs": [
        {
          "output_type": "stream",
          "name": "stdout",
          "text": [
            "Requirement already satisfied: opencv-python-headless in /usr/local/lib/python3.10/dist-packages (4.9.0.80)\n",
            "Requirement already satisfied: numpy>=1.21.2 in /usr/local/lib/python3.10/dist-packages (from opencv-python-headless) (1.25.2)\n"
          ]
        }
      ]
    },
    {
      "cell_type": "code",
      "source": [
        "%cd ./mAP/\n",
        "!python main.py\n",
        "%cd .."
      ],
      "metadata": {
        "id": "zjP4dlVWUUq_",
        "colab": {
          "base_uri": "https://localhost:8080/"
        },
        "outputId": "40c64401-c4be-4611-aa41-18c3196bc77d"
      },
      "execution_count": null,
      "outputs": [
        {
          "output_type": "stream",
          "name": "stdout",
          "text": [
            "/content/mAP\n",
            "qt.qpa.xcb: could not connect to display \n",
            "qt.qpa.plugin: Could not load the Qt platform plugin \"xcb\" in \"/usr/local/lib/python3.10/dist-packages/cv2/qt/plugins\" even though it was found.\n",
            "This application failed to start because no Qt platform plugin could be initialized. Reinstalling the application may fix this problem.\n",
            "\n",
            "Available platform plugins are: xcb.\n",
            "\n",
            "/content\n"
          ]
        }
      ]
    },
    {
      "cell_type": "code",
      "source": [],
      "metadata": {
        "id": "wCBij3H5srfD"
      },
      "execution_count": null,
      "outputs": []
    }
  ]
}